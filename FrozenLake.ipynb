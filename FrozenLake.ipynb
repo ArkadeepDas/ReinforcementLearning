{
 "cells": [
  {
   "cell_type": "code",
   "execution_count": 1,
   "metadata": {},
   "outputs": [],
   "source": [
    "# Importing requirments\n",
    "import numpy as np\n",
    "import gymnasium as gym\n",
    "import random, time\n",
    "from IPython.display import clear_output"
   ]
  },
  {
   "cell_type": "code",
   "execution_count": 2,
   "metadata": {},
   "outputs": [],
   "source": [
    "# We are going to use frozen lake environment\n",
    "# Let's create the environment\n",
    "env = gym.make('FrozenLake-v1')"
   ]
  },
  {
   "cell_type": "code",
   "execution_count": 3,
   "metadata": {},
   "outputs": [
    {
     "name": "stdout",
     "output_type": "stream",
     "text": [
      "State space size:  16\n",
      "Action space size:  4\n"
     ]
    }
   ],
   "source": [
    "# Now let's create the Q-table and initialize all the values to zero for each state action pair\n",
    "# No. of rows = size of the state space in the environment\n",
    "# No. of columns = size of the action space in the environment\n",
    "state_space_size = env.observation_space.n\n",
    "action_space_size = env.action_space.n\n",
    "print('State space size: ',state_space_size)\n",
    "print('Action space size: ',action_space_size)"
   ]
  },
  {
   "cell_type": "code",
   "execution_count": 4,
   "metadata": {},
   "outputs": [
    {
     "name": "stdout",
     "output_type": "stream",
     "text": [
      "Q-table size:  (16, 4)\n",
      "[[0. 0. 0. 0.]\n",
      " [0. 0. 0. 0.]\n",
      " [0. 0. 0. 0.]\n",
      " [0. 0. 0. 0.]\n",
      " [0. 0. 0. 0.]\n",
      " [0. 0. 0. 0.]\n",
      " [0. 0. 0. 0.]\n",
      " [0. 0. 0. 0.]\n",
      " [0. 0. 0. 0.]\n",
      " [0. 0. 0. 0.]\n",
      " [0. 0. 0. 0.]\n",
      " [0. 0. 0. 0.]\n",
      " [0. 0. 0. 0.]\n",
      " [0. 0. 0. 0.]\n",
      " [0. 0. 0. 0.]\n",
      " [0. 0. 0. 0.]]\n"
     ]
    }
   ],
   "source": [
    "# Now let's create the Q-table\n",
    "q_table = np.zeros((state_space_size, action_space_size))\n",
    "print('Q-table size: ',q_table.shape)\n",
    "print(q_table)"
   ]
  },
  {
   "cell_type": "code",
   "execution_count": 5,
   "metadata": {},
   "outputs": [],
   "source": [
    "# Let's initialize all the parameters \n",
    "num_episodes = 10000\n",
    "max_step_per_episode = 1000\n",
    "\n",
    "learning_rate = 0.1\n",
    "discount_rate = 0.99\n",
    "\n",
    "# These are exploration and exploitation trede-off\n",
    "exploration_rate = 1\n",
    "max_exploration_rate = 1\n",
    "min_exploration_rate = 0.01\n",
    "exploration_decay_rate = 0.01"
   ]
  },
  {
   "cell_type": "code",
   "execution_count": 26,
   "metadata": {},
   "outputs": [
    {
     "name": "stdout",
     "output_type": "stream",
     "text": [
      "-Average reward per thousand episode-\n",
      "Episode: 1000 = 0.044\n",
      "Episode: 2000 = 0.071\n",
      "Episode: 3000 = 0.156\n",
      "Episode: 4000 = 0.161\n",
      "Episode: 5000 = 0.149\n",
      "Episode: 6000 = 0.198\n",
      "Episode: 7000 = 0.456\n",
      "Episode: 8000 = 0.658\n",
      "Episode: 9000 = 0.759\n",
      "Episode: 10000 = 0.739\n"
     ]
    }
   ],
   "source": [
    "rewards_all_episode = []\n",
    "\n",
    "# Let's implement Q-learning algorithm\n",
    "# Everything that happens in a single episode\n",
    "for episode in range(num_episodes):\n",
    "    # Reset our environment to the starting state\n",
    "    # env.reset() return two values 1) state number 2) probability\n",
    "    state, _ = env.reset()\n",
    "    # Keep track of whether the given episode is end or not\n",
    "    done = False\n",
    "    # Initially reward is 0\n",
    "    rewards_current_episode = 0\n",
    "\n",
    "    # Everything that happens in single time step of each episode\n",
    "    for step in range(max_step_per_episode):\n",
    "        # We generate random number to determin whether the agent will choose exploration or exploitation\n",
    "        exploration_rate_threshold = random.uniform(0, 1)\n",
    "        # Exploitation\n",
    "        if exploration_rate_threshold > exploration_rate:\n",
    "            # Choose the highest Q-value in the in the Q-table for the current state\n",
    "            action = np.argmax(q_table[state,:])\n",
    "        # Exploration\n",
    "        else:\n",
    "            # Explore the environment by sample an action randomly\n",
    "            action = env.action_space.sample()\n",
    "        \n",
    "        # We take that action from that step and move to new step\n",
    "        # It reterns new state, the reward for the action we took, action ended the episode or not, truncate the episode or not, information about environment\n",
    "        new_state, reward, done, truncated, info = env.step(action=action)\n",
    "\n",
    "        # After the reward we get from the action on the state we update Q-table for q(state, action)\n",
    "        # This is the equation to find optimal Q-value\n",
    "        q_table[state, action] = ((1 - learning_rate) * q_table[state, action]) + (learning_rate * (reward + (discount_rate * np.max(q_table[new_state, :]))))\n",
    "        \n",
    "        # Now we update our current state\n",
    "        state = new_state\n",
    "        # Adding the reward we received in current action on state\n",
    "        rewards_current_episode += reward\n",
    "        #############################################################\n",
    "        # Total reward received after one episode is either 1 or 0\n",
    "        #############################################################\n",
    "        # If episode ends we jump to next episode else we transition to next time step\n",
    "        if done == True:\n",
    "            break\n",
    "        \n",
    "    # After one episode we need to update exploration rate\n",
    "    # This is the formula of exploration rate update\n",
    "    exploration_rate = min_exploration_rate + (max_exploration_rate - min_exploration_rate) * np.exp(-exploration_decay_rate * episode)\n",
    "    rewards_all_episode.append(rewards_current_episode)\n",
    "\n",
    "# Now we are going to calculate average rewards per 1000 episode\n",
    "rewards_per_thousand_episode = np.split(np.array(rewards_all_episode),num_episodes/1000)\n",
    "count = 1000\n",
    "print('--Average reward per thousand episode--')\n",
    "for r in rewards_per_thousand_episode:\n",
    "    print('Episode: '+str(count) + ' = ' + str(sum(r)/1000))\n",
    "    count = count+1000"
   ]
  },
  {
   "cell_type": "code",
   "execution_count": 28,
   "metadata": {},
   "outputs": [
    {
     "data": {
      "text/plain": [
       "array([[0.45657599, 0.44572912, 0.44681273, 0.44828036],\n",
       "       [0.2089147 , 0.23220831, 0.28227633, 0.42670779],\n",
       "       [0.29469577, 0.39713293, 0.30276831, 0.41075973],\n",
       "       [0.20382094, 0.22200752, 0.34252044, 0.40463151],\n",
       "       [0.48753399, 0.40822328, 0.36777172, 0.35859465],\n",
       "       [0.        , 0.        , 0.        , 0.        ],\n",
       "       [0.05026515, 0.13332285, 0.19038296, 0.04315909],\n",
       "       [0.        , 0.        , 0.        , 0.        ],\n",
       "       [0.28820412, 0.46259925, 0.43957614, 0.52092617],\n",
       "       [0.2532728 , 0.57704676, 0.43433175, 0.38046599],\n",
       "       [0.53251035, 0.38199154, 0.33237429, 0.28683216],\n",
       "       [0.        , 0.        , 0.        , 0.        ],\n",
       "       [0.        , 0.        , 0.        , 0.        ],\n",
       "       [0.43236974, 0.26070073, 0.65853183, 0.50693572],\n",
       "       [0.70353309, 0.81352105, 0.77120683, 0.72006364],\n",
       "       [0.        , 0.        , 0.        , 0.        ]])"
      ]
     },
     "execution_count": 28,
     "metadata": {},
     "output_type": "execute_result"
    }
   ],
   "source": [
    "# Let's check the Updated Q-table\n",
    "q_table"
   ]
  }
 ],
 "metadata": {
  "kernelspec": {
   "display_name": "Python 3",
   "language": "python",
   "name": "python3"
  },
  "language_info": {
   "codemirror_mode": {
    "name": "ipython",
    "version": 3
   },
   "file_extension": ".py",
   "mimetype": "text/x-python",
   "name": "python",
   "nbconvert_exporter": "python",
   "pygments_lexer": "ipython3",
   "version": "3.8.10"
  },
  "orig_nbformat": 4
 },
 "nbformat": 4,
 "nbformat_minor": 2
}
