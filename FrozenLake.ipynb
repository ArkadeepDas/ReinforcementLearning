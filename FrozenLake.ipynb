{
 "cells": [
  {
   "cell_type": "code",
   "execution_count": 9,
   "metadata": {},
   "outputs": [],
   "source": [
    "# Importing requirments\n",
    "import numpy as np\n",
    "import gymnasium as gym\n",
    "import random, time\n",
    "from IPython.display import clear_output"
   ]
  },
  {
   "cell_type": "code",
   "execution_count": 10,
   "metadata": {},
   "outputs": [],
   "source": [
    "# We are going to use frozen lake environment\n",
    "# Let's create the environment\n",
    "env = gym.make('FrozenLake-v1')"
   ]
  },
  {
   "cell_type": "code",
   "execution_count": 11,
   "metadata": {},
   "outputs": [
    {
     "name": "stdout",
     "output_type": "stream",
     "text": [
      "State space size:  16\n",
      "Action space size:  4\n"
     ]
    }
   ],
   "source": [
    "# Now let's create the Q-table and initialize all the values to zero for each state action pair\n",
    "# No. of rows = size of the state space in the environment\n",
    "# No. of columns = size of the action space in the environment\n",
    "state_space_size = env.observation_space.n\n",
    "action_space_size = env.action_space.n\n",
    "print('State space size: ',state_space_size)\n",
    "print('Action space size: ',action_space_size)"
   ]
  },
  {
   "cell_type": "code",
   "execution_count": 12,
   "metadata": {},
   "outputs": [
    {
     "name": "stdout",
     "output_type": "stream",
     "text": [
      "Q-table size:  (16, 4)\n",
      "[[0. 0. 0. 0.]\n",
      " [0. 0. 0. 0.]\n",
      " [0. 0. 0. 0.]\n",
      " [0. 0. 0. 0.]\n",
      " [0. 0. 0. 0.]\n",
      " [0. 0. 0. 0.]\n",
      " [0. 0. 0. 0.]\n",
      " [0. 0. 0. 0.]\n",
      " [0. 0. 0. 0.]\n",
      " [0. 0. 0. 0.]\n",
      " [0. 0. 0. 0.]\n",
      " [0. 0. 0. 0.]\n",
      " [0. 0. 0. 0.]\n",
      " [0. 0. 0. 0.]\n",
      " [0. 0. 0. 0.]\n",
      " [0. 0. 0. 0.]]\n"
     ]
    }
   ],
   "source": [
    "# Now let's create the Q-table\n",
    "q_table = np.zeros((state_space_size, action_space_size))\n",
    "print('Q-table size: ',q_table.shape)\n",
    "print(q_table)"
   ]
  },
  {
   "cell_type": "code",
   "execution_count": 13,
   "metadata": {},
   "outputs": [],
   "source": [
    "# Let's initialize all the parameters \n",
    "num_episodes = 10000\n",
    "max_step_per_episode = 1000\n",
    "\n",
    "learning_rate = 0.1\n",
    "discount_rate = 0.99\n",
    "\n",
    "# These are exploration and exploitation trede-off\n",
    "exploration_rate = 1\n",
    "max_exploration_rate = 1\n",
    "min_exploration_rate = 0.01\n",
    "exploration_decay_rate = 0.01"
   ]
  },
  {
   "cell_type": "code",
   "execution_count": 14,
   "metadata": {},
   "outputs": [
    {
     "name": "stdout",
     "output_type": "stream",
     "text": [
      "--Average reward per thousand episode--\n",
      "Episode: 1000 = 0.002\n",
      "Episode: 2000 = 0.027\n",
      "Episode: 3000 = 0.167\n",
      "Episode: 4000 = 0.167\n",
      "Episode: 5000 = 0.467\n",
      "Episode: 6000 = 0.54\n",
      "Episode: 7000 = 0.654\n",
      "Episode: 8000 = 0.71\n",
      "Episode: 9000 = 0.649\n",
      "Episode: 10000 = 0.684\n"
     ]
    }
   ],
   "source": [
    "rewards_all_episode = []\n",
    "\n",
    "# Let's implement Q-learning algorithm\n",
    "# Everything that happens in a single episode\n",
    "for episode in range(num_episodes):\n",
    "    # Reset our environment to the starting state\n",
    "    # env.reset() return two values 1) state number 2) probability\n",
    "    state, _ = env.reset()\n",
    "    # Keep track of whether the given episode is end or not\n",
    "    done = False\n",
    "    # Initially reward is 0\n",
    "    rewards_current_episode = 0\n",
    "\n",
    "    # Everything that happens in single time step of each episode\n",
    "    for step in range(max_step_per_episode):\n",
    "        # We generate random number to determin whether the agent will choose exploration or exploitation\n",
    "        exploration_rate_threshold = random.uniform(0, 1)\n",
    "        # Exploitation\n",
    "        if exploration_rate_threshold > exploration_rate:\n",
    "            # Choose the highest Q-value in the in the Q-table for the current state\n",
    "            action = np.argmax(q_table[state,:])\n",
    "        # Exploration\n",
    "        else:\n",
    "            # Explore the environment by sample an action randomly\n",
    "            action = env.action_space.sample()\n",
    "        \n",
    "        # We take that action from that step and move to new step\n",
    "        # It reterns new state, the reward for the action we took, action ended the episode or not, truncate the episode or not, information about environment\n",
    "        new_state, reward, done, truncated, info = env.step(action=action)\n",
    "\n",
    "        # After the reward we get from the action on the state we update Q-table for q(state, action)\n",
    "        # This is the equation to find optimal Q-value\n",
    "        q_table[state, action] = ((1 - learning_rate) * q_table[state, action]) + (learning_rate * (reward + (discount_rate * np.max(q_table[new_state, :]))))\n",
    "        \n",
    "        # Now we update our current state\n",
    "        state = new_state\n",
    "        # Adding the reward we received in current action on state\n",
    "        rewards_current_episode += reward\n",
    "        #############################################################\n",
    "        # Total reward received after one episode is either 1 or 0\n",
    "        #############################################################\n",
    "        # If episode ends we jump to next episode else we transition to next time step\n",
    "        # If done is true means the agent either in the hole or in the finish point\n",
    "        if done == True:\n",
    "            break\n",
    "        \n",
    "    # After one episode we need to update exploration rate\n",
    "    # This is the formula of exploration rate update\n",
    "    exploration_rate = min_exploration_rate + (max_exploration_rate - min_exploration_rate) * np.exp(-exploration_decay_rate * episode)\n",
    "    rewards_all_episode.append(rewards_current_episode)\n",
    "\n",
    "# Now we are going to calculate average rewards per 1000 episode\n",
    "rewards_per_thousand_episode = np.split(np.array(rewards_all_episode),num_episodes/1000)\n",
    "count = 1000\n",
    "print('--Average reward per thousand episode--')\n",
    "for r in rewards_per_thousand_episode:\n",
    "    print('Episode: '+str(count) + ' = ' + str(sum(r)/1000))\n",
    "    count = count+1000"
   ]
  },
  {
   "cell_type": "code",
   "execution_count": 15,
   "metadata": {},
   "outputs": [
    {
     "data": {
      "text/plain": [
       "array([[0.53018123, 0.39706074, 0.45323669, 0.44705501],\n",
       "       [0.21885202, 0.04451896, 0.03021897, 0.04063984],\n",
       "       [0.2236835 , 0.05672989, 0.06676505, 0.03329265],\n",
       "       [0.0893088 , 0.        , 0.        , 0.        ],\n",
       "       [0.54998005, 0.31335808, 0.3462287 , 0.34691291],\n",
       "       [0.        , 0.        , 0.        , 0.        ],\n",
       "       [0.2411331 , 0.10174902, 0.07393345, 0.02633441],\n",
       "       [0.        , 0.        , 0.        , 0.        ],\n",
       "       [0.48459984, 0.3383393 , 0.34092106, 0.5664316 ],\n",
       "       [0.35480684, 0.6115162 , 0.42708561, 0.41552159],\n",
       "       [0.56086448, 0.32805231, 0.44763924, 0.24076294],\n",
       "       [0.        , 0.        , 0.        , 0.        ],\n",
       "       [0.        , 0.        , 0.        , 0.        ],\n",
       "       [0.3098029 , 0.45763026, 0.68644098, 0.38285131],\n",
       "       [0.696587  , 0.80845331, 0.75327981, 0.77386604],\n",
       "       [0.        , 0.        , 0.        , 0.        ]])"
      ]
     },
     "execution_count": 15,
     "metadata": {},
     "output_type": "execute_result"
    }
   ],
   "source": [
    "# Let's check the Updated Q-table\n",
    "q_table"
   ]
  },
  {
   "cell_type": "code",
   "execution_count": 17,
   "metadata": {},
   "outputs": [
    {
     "name": "stdout",
     "output_type": "stream",
     "text": [
      "-- We reached the goal --\n"
     ]
    }
   ],
   "source": [
    "# Let's see how agent play the game\n",
    "# We are going to watch three episode our agent play\n",
    "# Create a new environment\n",
    "env = gym.make('FrozenLake-v1', render_mode='human')\n",
    "\n",
    "for episode in range(3):\n",
    "    # Reset our environment first\n",
    "    state, _ = env.reset()\n",
    "    done = False\n",
    "    # Print the episode what is starting and wait 1 sec so that we can see which episode it is\n",
    "    print('-- Episode : ', episode + 1, '\\n\\n')\n",
    "    time.sleep(1)\n",
    "\n",
    "    # Now the inner loop\n",
    "    for step in range(max_step_per_episode):\n",
    "        # Clear the output and wait-until there is anther print\n",
    "        clear_output(wait=True)\n",
    "        # Render the environment\n",
    "        env.render()\n",
    "        # Sleep some time to see the current state and the agents position\n",
    "        time.sleep(0.3)\n",
    "\n",
    "        # Now take the highest Q-value from current state and take the action\n",
    "        # Basically we travel from state to state using Q-table and Q-value\n",
    "        action = np.argmax(q_table[state, :])\n",
    "        new_state, reward, done, truncated, info = env.step(action=action)\n",
    "\n",
    "        # If we reach the destination then we will stop\n",
    "        if done == True:\n",
    "            clear_output(wait=True)\n",
    "            env.render()\n",
    "            if reward == 1:\n",
    "                print('-- We reached the goal --')\n",
    "                time.sleep(3)\n",
    "            else:\n",
    "                print('-- Fail --')\n",
    "                time.sleep(3)\n",
    "            clear_output(wait=True)\n",
    "            # If successfully reach the goal then we break the loop and go to next episode\n",
    "            break\n",
    "        \n",
    "        state = new_state\n",
    "# Close environment after all 3 episode\n",
    "env.close()"
   ]
  }
 ],
 "metadata": {
  "kernelspec": {
   "display_name": "Python 3",
   "language": "python",
   "name": "python3"
  },
  "language_info": {
   "codemirror_mode": {
    "name": "ipython",
    "version": 3
   },
   "file_extension": ".py",
   "mimetype": "text/x-python",
   "name": "python",
   "nbconvert_exporter": "python",
   "pygments_lexer": "ipython3",
   "version": "3.8.10"
  },
  "orig_nbformat": 4
 },
 "nbformat": 4,
 "nbformat_minor": 2
}
