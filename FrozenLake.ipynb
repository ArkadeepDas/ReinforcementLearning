{
 "cells": [
  {
   "cell_type": "code",
   "execution_count": 4,
   "metadata": {},
   "outputs": [],
   "source": [
    "# Importing requirments\n",
    "import numpy as np\n",
    "import gymnasium as gym\n",
    "import random, time\n",
    "from IPython.display import clear_output"
   ]
  },
  {
   "cell_type": "code",
   "execution_count": 6,
   "metadata": {},
   "outputs": [],
   "source": [
    "# We are going to use frozen lake environment\n",
    "# Let's create the environment\n",
    "env = gym.make('FrozenLake-v1')"
   ]
  },
  {
   "cell_type": "code",
   "execution_count": 11,
   "metadata": {},
   "outputs": [
    {
     "name": "stdout",
     "output_type": "stream",
     "text": [
      "State space size:  16\n",
      "Action space size:  4\n"
     ]
    }
   ],
   "source": [
    "# Now let's create the Q-table and initialize all the values to zero for each state action pair\n",
    "# No. of rows = size of the state space in the environment\n",
    "# No. of columns = size of the action space in the environment\n",
    "state_space_size = env.observation_space.n\n",
    "action_space_size = env.action_space.n\n",
    "print('State space size: ',state_space_size)\n",
    "print('Action space size: ',action_space_size)"
   ]
  },
  {
   "cell_type": "code",
   "execution_count": 15,
   "metadata": {},
   "outputs": [
    {
     "name": "stdout",
     "output_type": "stream",
     "text": [
      "Q-table size:  (16, 4)\n"
     ]
    }
   ],
   "source": [
    "# Now let's create the Q-table\n",
    "q_table = np.zeros((state_space_size, action_space_size))\n",
    "print('Q-table size: ',q_table.shape)"
   ]
  },
  {
   "cell_type": "code",
   "execution_count": 17,
   "metadata": {},
   "outputs": [],
   "source": [
    "# Let's initialize all the parameters \n",
    "num_episodes = 1000\n",
    "max_step_per_episode = 100\n",
    "\n",
    "learning_rate = 0.1\n",
    "discount_rate = 0.99\n",
    "\n",
    "# These are exploration and exploitation trede-off\n",
    "exploration_rate = 1\n",
    "max_exploration_rate = 1\n",
    "min_exploration_rate = 0.01\n",
    "exploration_decay_rate = 0.001"
   ]
  },
  {
   "cell_type": "code",
   "execution_count": 24,
   "metadata": {},
   "outputs": [],
   "source": [
    "rewards_all_episode = []\n",
    "\n",
    "# Let's implement Q-learning algorithm\n",
    "# Everything that happens in a single episode\n",
    "for episode in range(num_episodes):\n",
    "    # Reset our environment to the starting state\n",
    "    # env.reset() return two values 1) state number 2) probability\n",
    "    state = env.reset()\n",
    "    # Keep track of whether the given episode is end or not\n",
    "    done = False\n",
    "    # Initially reward is 0\n",
    "    rewards_current_episode = 0\n",
    "\n",
    "    # Everything that happens in single time step of each episode\n",
    "    for step in range(max_step_per_episode):\n",
    "        # We generate random number to determin whether the agent will choose exploration or exploitation\n",
    "        exploration_rate_threshold = random.uniform(0, 1)\n",
    "        # Exploitation\n",
    "        if exploration_rate_threshold > exploration_rate:\n",
    "            # Choose the highest Q-value in the in the Q-table for the current state\n",
    "            action = np.argmax(q_table[state[0],:])\n",
    "        # Exploration\n",
    "        else:\n",
    "            # Explore the environment by sample an action randomly\n",
    "            action = env.action_space.sample()\n",
    "        \n",
    "        # We take that action from that step and move to new step\n",
    "        # It reterns new state, the reward for the action we took, action ended the episode or not, truncate the episode or not, information about environment\n",
    "        new_state, reward, done, truncated, info = env.step(action=action)\n",
    "\n",
    "        # After the reward we get from the action on the state we update Q-table for q(state, action)\n",
    "        # This is the equation to find optimal Q-value\n",
    "        q_table[state, action] = ((1 - learning_rate) * q_table[state, action]) + (learning_rate * (reward + (discount_rate * np.max(q_table[new_state, :]))))\n",
    "        \n",
    "        # Now we update our current state\n",
    "        state = new_state\n",
    "        # Adding the reward we received in current action on state\n",
    "        rewards_current_episode += reward\n",
    "        # If episode ends we jump to next episode else we transition to next time step\n",
    "        if done == True:\n",
    "            break\n"
   ]
  }
 ],
 "metadata": {
  "kernelspec": {
   "display_name": "Python 3",
   "language": "python",
   "name": "python3"
  },
  "language_info": {
   "codemirror_mode": {
    "name": "ipython",
    "version": 3
   },
   "file_extension": ".py",
   "mimetype": "text/x-python",
   "name": "python",
   "nbconvert_exporter": "python",
   "pygments_lexer": "ipython3",
   "version": "3.8.10"
  },
  "orig_nbformat": 4
 },
 "nbformat": 4,
 "nbformat_minor": 2
}
